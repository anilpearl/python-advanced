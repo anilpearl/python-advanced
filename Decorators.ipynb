{
 "cells": [
  {
   "cell_type": "code",
   "execution_count": 3,
   "metadata": {},
   "outputs": [],
   "source": [
    "#Inner Function\n",
    "def outerFunc(num):\n",
    "    def func():\n",
    "        print 'Hello'\n",
    "    \n",
    "    if num > 200:\n",
    "        func()\n",
    "    \n",
    "outerFunc(100)"
   ]
  },
  {
   "cell_type": "code",
   "execution_count": 8,
   "metadata": {},
   "outputs": [],
   "source": [
    "#Create a decorator with name jpmorgan\n",
    "\n",
    "def jpmorgan(f):\n",
    "    def my_func():\n",
    "        #add init code here\n",
    "        f()\n",
    "        #add cleanup code here\n",
    "        print 'Inside'\n",
    "        \n",
    "    return my_func\n",
    "\n",
    "@jpmorgan\n",
    "def fun():\n",
    "    print 'hello'"
   ]
  },
  {
   "cell_type": "code",
   "execution_count": 9,
   "metadata": {},
   "outputs": [
    {
     "name": "stdout",
     "output_type": "stream",
     "text": [
      "hello\n",
      "Inside\n"
     ]
    }
   ],
   "source": [
    "fun()"
   ]
  },
  {
   "cell_type": "code",
   "execution_count": 10,
   "metadata": {
    "collapsed": true
   },
   "outputs": [],
   "source": [
    "@jpmorgan\n",
    "def nfun():\n",
    "    print 'nhello'"
   ]
  },
  {
   "cell_type": "code",
   "execution_count": 11,
   "metadata": {},
   "outputs": [
    {
     "name": "stdout",
     "output_type": "stream",
     "text": [
      "nhello\n",
      "Inside\n"
     ]
    }
   ],
   "source": [
    "nfun()"
   ]
  },
  {
   "cell_type": "code",
   "execution_count": 15,
   "metadata": {},
   "outputs": [],
   "source": [
    "def newjpmorgan(f):\n",
    "    def my_func(name):\n",
    "        #add init code here\n",
    "        f(name)\n",
    "        #add cleanup code here\n",
    "        print 'Inside ' + name\n",
    "        \n",
    "    return my_func\n",
    "\n",
    "@newjpmorgan\n",
    "def xfun(name):\n",
    "    print 'hello ' + name"
   ]
  },
  {
   "cell_type": "code",
   "execution_count": 16,
   "metadata": {},
   "outputs": [
    {
     "name": "stdout",
     "output_type": "stream",
     "text": [
      "hello good\n",
      "Inside good\n"
     ]
    }
   ],
   "source": [
    "xfun('good')"
   ]
  },
  {
   "cell_type": "code",
   "execution_count": null,
   "metadata": {
    "collapsed": true
   },
   "outputs": [],
   "source": []
  }
 ],
 "metadata": {
  "kernelspec": {
   "display_name": "Python 2",
   "language": "python",
   "name": "python2"
  },
  "language_info": {
   "codemirror_mode": {
    "name": "ipython",
    "version": 2
   },
   "file_extension": ".py",
   "mimetype": "text/x-python",
   "name": "python",
   "nbconvert_exporter": "python",
   "pygments_lexer": "ipython2",
   "version": "2.7.13"
  }
 },
 "nbformat": 4,
 "nbformat_minor": 2
}
