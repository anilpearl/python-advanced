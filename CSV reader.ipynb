{
 "cells": [
  {
   "cell_type": "code",
   "execution_count": null,
   "metadata": {
    "collapsed": true
   },
   "outputs": [],
   "source": [
    "import csv"
   ]
  },
  {
   "cell_type": "code",
   "execution_count": 2,
   "metadata": {
    "collapsed": true
   },
   "outputs": [],
   "source": [
    "import os"
   ]
  },
  {
   "cell_type": "code",
   "execution_count": 3,
   "metadata": {},
   "outputs": [
    {
     "data": {
      "text/plain": [
       "'C:\\\\Users\\\\Student'"
      ]
     },
     "execution_count": 3,
     "metadata": {},
     "output_type": "execute_result"
    }
   ],
   "source": [
    "os.getcwd()"
   ]
  },
  {
   "cell_type": "code",
   "execution_count": 12,
   "metadata": {},
   "outputs": [],
   "source": [
    "data = []\n",
    "with open('MoreStock.csv') as fd:\n",
    "    fd2 = open('out.csv','wb')\n",
    "    csv_writer = csv.writer(fd2, dialect='excel')\n",
    "    st = csv.reader(fd,delimiter=',')\n",
    "    for s in st:\n",
    "        data.append(s[2])\n",
    "    csv_writer.writerows([['a','b'],['c','d']])\n",
    "    fd2.close()"
   ]
  },
  {
   "cell_type": "code",
   "execution_count": 10,
   "metadata": {},
   "outputs": [
    {
     "data": {
      "text/plain": [
       "77417.84999999999"
      ]
     },
     "execution_count": 10,
     "metadata": {},
     "output_type": "execute_result"
    }
   ],
   "source": [
    "sum(map(float,data[1:]))"
   ]
  },
  {
   "cell_type": "code",
   "execution_count": 3,
   "metadata": {},
   "outputs": [
    {
     "name": "stdout",
     "output_type": "stream",
     "text": [
      "Help on built-in function writer in module _csv:\n",
      "\n",
      "writer(...)\n",
      "    csv_writer = csv.writer(fileobj [, dialect='excel']\n",
      "                                [optional keyword args])\n",
      "        for row in sequence:\n",
      "            csv_writer.writerow(row)\n",
      "    \n",
      "        [or]\n",
      "    \n",
      "        csv_writer = csv.writer(fileobj [, dialect='excel']\n",
      "                                [optional keyword args])\n",
      "        csv_writer.writerows(rows)\n",
      "    \n",
      "    The \"fileobj\" argument can be any object that supports the file API.\n",
      "\n"
     ]
    }
   ],
   "source": [
    "help(csv.writer)"
   ]
  },
  {
   "cell_type": "code",
   "execution_count": null,
   "metadata": {
    "collapsed": true
   },
   "outputs": [],
   "source": []
  }
 ],
 "metadata": {
  "kernelspec": {
   "display_name": "Python 2",
   "language": "python",
   "name": "python2"
  },
  "language_info": {
   "codemirror_mode": {
    "name": "ipython",
    "version": 2
   },
   "file_extension": ".py",
   "mimetype": "text/x-python",
   "name": "python",
   "nbconvert_exporter": "python",
   "pygments_lexer": "ipython2",
   "version": "2.7.13"
  }
 },
 "nbformat": 4,
 "nbformat_minor": 2
}
