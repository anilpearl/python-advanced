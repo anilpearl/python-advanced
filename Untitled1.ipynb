{
 "cells": [
  {
   "cell_type": "code",
   "execution_count": 1,
   "metadata": {
    "collapsed": true
   },
   "outputs": [],
   "source": [
    "import dicttoxml"
   ]
  },
  {
   "cell_type": "code",
   "execution_count": 3,
   "metadata": {
    "collapsed": true
   },
   "outputs": [],
   "source": [
    "doc = dicttoxml.dicttoxml({'a':5,'c':'d'})"
   ]
  },
  {
   "cell_type": "code",
   "execution_count": 5,
   "metadata": {},
   "outputs": [
    {
     "name": "stdout",
     "output_type": "stream",
     "text": [
      "<?xml version=\"1.0\" encoding=\"UTF-8\" ?><root><a type=\"int\">5</a><c type=\"str\">d</c></root>\n"
     ]
    }
   ],
   "source": [
    "print doc"
   ]
  },
  {
   "cell_type": "code",
   "execution_count": 1,
   "metadata": {
    "collapsed": true
   },
   "outputs": [],
   "source": [
    "import xmltodict"
   ]
  },
  {
   "cell_type": "code",
   "execution_count": 7,
   "metadata": {},
   "outputs": [
    {
     "name": "stdout",
     "output_type": "stream",
     "text": [
      "OrderedDict([(u'mydocument', OrderedDict([(u'@has', u'an attribute'), (u'and', [OrderedDict([(u'many', [u'elements', u'more elements'])]), OrderedDict([(u'many', [u'cool elements', u'too more elements'])]), OrderedDict([(u'many', [u'blue elements', u'ultra elements'])])]), (u'plus', OrderedDict([(u'@a', u'complex'), ('#text', u'element as well')]))]))])\n"
     ]
    }
   ],
   "source": [
    "with open('file.xml') as fd:\n",
    "    doc = xmltodict.parse(fd.read()) \n",
    "\n",
    "print doc "
   ]
  },
  {
   "cell_type": "code",
   "execution_count": 26,
   "metadata": {},
   "outputs": [
    {
     "data": {
      "text/plain": [
       "OrderedDict([(u'mydocument',\n",
       "              OrderedDict([(u'@has', u'an attribute'),\n",
       "                           (u'and',\n",
       "                            [OrderedDict([(u'many',\n",
       "                                           [u'elements', u'more elements'])]),\n",
       "                             OrderedDict([(u'many',\n",
       "                                           [u'cool elements',\n",
       "                                            u'too more elements'])]),\n",
       "                             OrderedDict([(u'many',\n",
       "                                           [u'blue elements',\n",
       "                                            u'ultra elements'])])]),\n",
       "                           (u'plus',\n",
       "                            OrderedDict([(u'@a', u'complex'),\n",
       "                                         ('#text', u'element as well')]))]))])"
      ]
     },
     "execution_count": 26,
     "metadata": {},
     "output_type": "execute_result"
    }
   ],
   "source": [
    "doc"
   ]
  },
  {
   "cell_type": "code",
   "execution_count": 45,
   "metadata": {},
   "outputs": [],
   "source": [
    "def findKeyInfo(db,pattern):\n",
    "    for k,v in db.items():\n",
    "        if k == pattern:\n",
    "            print v\n",
    "        if isinstance(v,dict):\n",
    "            findKeyInfo(v,pattern)\n",
    "            \n",
    "pattern = 'and' \n"
   ]
  },
  {
   "cell_type": "code",
   "execution_count": 46,
   "metadata": {},
   "outputs": [
    {
     "name": "stdout",
     "output_type": "stream",
     "text": [
      "[OrderedDict([(u'many', [u'elements', u'more elements'])]), OrderedDict([(u'many', [u'cool elements', u'too more elements'])]), OrderedDict([(u'many', [u'blue elements', u'ultra elements'])])]\n"
     ]
    }
   ],
   "source": [
    "findKeyInfo(doc,pattern)"
   ]
  },
  {
   "cell_type": "code",
   "execution_count": null,
   "metadata": {
    "collapsed": true
   },
   "outputs": [],
   "source": []
  },
  {
   "cell_type": "code",
   "execution_count": null,
   "metadata": {
    "collapsed": true
   },
   "outputs": [],
   "source": []
  }
 ],
 "metadata": {
  "kernelspec": {
   "display_name": "Python 2",
   "language": "python",
   "name": "python2"
  },
  "language_info": {
   "codemirror_mode": {
    "name": "ipython",
    "version": 2
   },
   "file_extension": ".py",
   "mimetype": "text/x-python",
   "name": "python",
   "nbconvert_exporter": "python",
   "pygments_lexer": "ipython2",
   "version": "2.7.13"
  }
 },
 "nbformat": 4,
 "nbformat_minor": 2
}
